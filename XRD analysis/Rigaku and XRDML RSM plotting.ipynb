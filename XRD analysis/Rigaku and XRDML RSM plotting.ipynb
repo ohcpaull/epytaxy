{
 "cells": [
  {
   "cell_type": "markdown",
   "id": "594d3402-f110-43fa-b308-53ca08a2594c",
   "metadata": {},
   "source": [
    "# Reciprocal Space Maps\n",
    "## Rigaku file"
   ]
  },
  {
   "cell_type": "code",
   "execution_count": 1,
   "id": "19562251-f6bc-4eac-bfad-862331514417",
   "metadata": {},
   "outputs": [
    {
     "name": "stdout",
     "output_type": "stream",
     "text": [
      "XU.analysis.fit_bragg_peak:fitted peak angles: \n",
      "\tom = 22.2275\n",
      "\ttt = 44.4822\n"
     ]
    }
   ],
   "source": [
    "from epytaxy.xray import ReciprocalSpaceMap\n",
    "import numpy as np\n",
    "import matplotlib.pyplot as plt\n",
    "\n",
    "ref_hkl = (0,0,2)\n",
    "ip_hkl = (0,1,0)\n",
    "oop_hkl = (0,0,1)\n",
    "\n",
    "substrate_mat = \"STO\"\n",
    "\n",
    "rsm = ReciprocalSpaceMap(\n",
    "    ref_hkl=ref_hkl, \n",
    "    ip_hkl=ip_hkl, \n",
    "    oop_hkl=oop_hkl, \n",
    "    substrate_mat=substrate_mat,\n",
    "    filepath=\"data/P0142OP_RSM_002.ras\",\n",
    ")"
   ]
  },
  {
   "cell_type": "code",
   "execution_count": 2,
   "id": "3398ad61-17c3-4dd7-837d-25ff1c05944b",
   "metadata": {},
   "outputs": [
    {
     "data": {
      "application/vnd.jupyter.widget-view+json": {
       "model_id": "e369fed30617467590c9c24744aeed1b",
       "version_major": 2,
       "version_minor": 0
      },
      "text/plain": [
       "Canvas(toolbar=Toolbar(toolitems=[('Home', 'Reset original view', 'home', 'home'), ('Back', 'Back to previous …"
      ]
     },
     "metadata": {},
     "output_type": "display_data"
    },
    {
     "data": {
      "text/plain": [
       "(<Figure size 640x480 with 1 Axes>,\n",
       " <AxesSubplot:xlabel='$Q_{[010]}$', ylabel='$Q_{[001]}$'>)"
      ]
     },
     "execution_count": 2,
     "metadata": {},
     "output_type": "execute_result"
    }
   ],
   "source": [
    "%matplotlib widget\n",
    "rsm.plotQ(40,60,3,0,nlev=20)"
   ]
  },
  {
   "cell_type": "markdown",
   "id": "b669f934-651e-4df1-8da7-570d5b29c6ab",
   "metadata": {},
   "source": [
    "## XRDML file"
   ]
  },
  {
   "cell_type": "code",
   "execution_count": 8,
   "id": "1e5eab66-5583-4695-aa28-4fc2ae9b24c7",
   "metadata": {},
   "outputs": [
    {
     "name": "stdout",
     "output_type": "stream",
     "text": [
      "XU.analysis.fit_bragg_peak:fitted peak angles: \n",
      "\tom = 36.2867\n",
      "\ttt = 72.5581\n"
     ]
    }
   ],
   "source": [
    "ref_hkl = (0,0,3)\n",
    "ip_hkl = (0,1,0)\n",
    "oop_hkl = (0,0,1)\n",
    "\n",
    "substrate_mat = \"STO\"\n",
    "\n",
    "rsm2 = ReciprocalSpaceMap(\n",
    "    ref_hkl=ref_hkl, \n",
    "    ip_hkl=ip_hkl, \n",
    "    oop_hkl=oop_hkl, \n",
    "    substrate_mat=substrate_mat,\n",
    "    filepath=\"data/P0031bCL_RSM_003_phi_0.xrdml\",\n",
    ")"
   ]
  },
  {
   "cell_type": "code",
   "execution_count": 6,
   "id": "6d0d8265-1988-485e-84c5-9f5ba3b912a9",
   "metadata": {},
   "outputs": [
    {
     "data": {
      "application/vnd.jupyter.widget-view+json": {
       "model_id": "3c4d81f996ae4768817e984873face2a",
       "version_major": 2,
       "version_minor": 0
      },
      "text/plain": [
       "Canvas(toolbar=Toolbar(toolitems=[('Home', 'Reset original view', 'home', 'home'), ('Back', 'Back to previous …"
      ]
     },
     "metadata": {},
     "output_type": "display_data"
    },
    {
     "data": {
      "text/plain": [
       "(<Figure size 640x480 with 1 Axes>,\n",
       " <AxesSubplot:xlabel='$Q_{[010]}$', ylabel='$Q_{[001]}$'>)"
      ]
     },
     "execution_count": 6,
     "metadata": {},
     "output_type": "execute_result"
    }
   ],
   "source": [
    "rsm2.plotQ(50,50,3,0, nlev=20)"
   ]
  },
  {
   "cell_type": "code",
   "execution_count": null,
   "id": "e85098b9-4670-4272-a3a4-5276e3cded84",
   "metadata": {},
   "outputs": [],
   "source": []
  }
 ],
 "metadata": {
  "kernelspec": {
   "display_name": "Python 3",
   "language": "python",
   "name": "python3"
  },
  "language_info": {
   "codemirror_mode": {
    "name": "ipython",
    "version": 3
   },
   "file_extension": ".py",
   "mimetype": "text/x-python",
   "name": "python",
   "nbconvert_exporter": "python",
   "pygments_lexer": "ipython3",
   "version": "3.8.8"
  }
 },
 "nbformat": 4,
 "nbformat_minor": 5
}
