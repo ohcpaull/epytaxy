{
 "cells": [
  {
   "cell_type": "markdown",
   "id": "413b67a7-3a11-4057-b705-27e8042f5941",
   "metadata": {},
   "source": [
    "# PANAlytical .XRDML file plotting"
   ]
  },
  {
   "cell_type": "code",
   "execution_count": 1,
   "id": "6fe844a2-182d-43d9-a7a3-33b468837aec",
   "metadata": {},
   "outputs": [],
   "source": [
    "from vlabs.xray import xrdml_file\n",
    "import numpy as np\n",
    "import matplotlib.pyplot as plt\n"
   ]
  },
  {
   "cell_type": "code",
   "execution_count": 2,
   "id": "b5c3af37-33b8-495c-a41a-1ac76ea577db",
   "metadata": {},
   "outputs": [],
   "source": [
    "xrd = xrdml_file(\"data/P0137cOP_BFO10k_STO100_2theta.xrdml\")"
   ]
  },
  {
   "cell_type": "code",
   "execution_count": 3,
   "id": "c4b8709f-4988-48a2-ac61-fae9201a3eea",
   "metadata": {},
   "outputs": [
    {
     "data": {
      "text/plain": [
       "{'countTime': array([0.8]),\n",
       " 'detector': array([0., 0., 5., ..., 0., 0., 0.]),\n",
       " 'counts': array([], dtype=float64),\n",
       " 'beamAttenuationFactors': array([], dtype=float64),\n",
       " 'hkl': array([], dtype=float64),\n",
       " '2Theta': array([ 15.005,  15.015,  15.025, ..., 114.975, 114.985, 114.995]),\n",
       " 'Omega': array([ 7.5025,  7.5075,  7.5125, ..., 57.4875, 57.4925, 57.4975]),\n",
       " 'Phi': array([0.]),\n",
       " 'Psi': array([0.89]),\n",
       " 'X': array([-1.]),\n",
       " 'Y': array([-15.08]),\n",
       " 'Z': array([6.559])}"
      ]
     },
     "execution_count": 3,
     "metadata": {},
     "output_type": "execute_result"
    }
   ],
   "source": [
    "xrd"
   ]
  },
  {
   "cell_type": "code",
   "execution_count": 8,
   "id": "0e704d70-c6c3-40b7-99e3-0d6abf9c7c83",
   "metadata": {},
   "outputs": [
    {
     "data": {
      "text/plain": [
       "[None, Text(0.5, 0, '2theta-omega'), Text(0, 0.5, 'Intensity (a.u.)')]"
      ]
     },
     "execution_count": 8,
     "metadata": {},
     "output_type": "execute_result"
    },
    {
     "data": {
      "image/png": "[encoded data removed]",
      "text/plain": [
       "<Figure size 432x288 with 1 Axes>"
      ]
     },
     "metadata": {
      "needs_background": "light"
     },
     "output_type": "display_data"
    }
   ],
   "source": [
    "fig, ax = plt.subplots()\n",
    "\n",
    "ax.plot(xrd[\"2Theta\"], xrd[\"detector\"])\n",
    "ax.set(yscale=\"log\", xlabel=\"2theta-omega\", ylabel=\"Intensity (a.u.)\")\n"
   ]
  },
  {
   "cell_type": "code",
   "execution_count": null,
   "id": "a9e9d4c1-0c5e-48cc-82ff-7c90d3b72135",
   "metadata": {},
   "outputs": [],
   "source": []
  }
 ],
 "metadata": {
  "kernelspec": {
   "display_name": "Python 3",
   "language": "python",
   "name": "python3"
  },
  "language_info": {
   "codemirror_mode": {
    "name": "ipython",
    "version": 3
   },
   "file_extension": ".py",
   "mimetype": "text/x-python",
   "name": "python",
   "nbconvert_exporter": "python",
   "pygments_lexer": "ipython3",
   "version": "3.8.8"
  }
 },
 "nbformat": 4,
 "nbformat_minor": 5
}
