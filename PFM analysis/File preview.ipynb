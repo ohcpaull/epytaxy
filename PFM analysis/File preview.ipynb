{
 "cells": [
  {
   "cell_type": "markdown",
   "metadata": {},
   "source": [
    "# File preview function \n",
    "\n",
    "### Select which h5 data file you want to look at, then you can select particular channel\n",
    "\n",
    "### Topography, amplitude and phase are plotted\n",
    "\n",
    "### Function will also print 'DART detected' and 'SF detected' depending on the type of data"
   ]
  },
  {
   "cell_type": "code",
   "execution_count": 1,
   "metadata": {},
   "outputs": [],
   "source": [
    "# Import packages \n",
    "\n",
    "from epytaxy.spm import *\n",
    "import numpy as np\n",
    "import matplotlib.pyplot as plt\n",
    "import ipywidgets as widgets\n",
    "import os\n"
   ]
  },
  {
   "cell_type": "markdown",
   "metadata": {},
   "source": [
    "### First, we use the file preview function to interactively open and look at files in a folder"
   ]
  },
  {
   "cell_type": "code",
   "execution_count": 8,
   "metadata": {},
   "outputs": [
    {
     "name": "stdout",
     "output_type": "stream",
     "text": [
      "['P0125OP0000.h5', 'P0125OP0001.h5', 'P0125OP0002.h5', 'P0125OP0003.h5', 'P0125OP0004.h5', 'P0125OP0005.h5', 'P0125OP0006.h5', 'P0125OP0007.h5', 'P0142OP0000.h5', 'P0142OP0001.h5']\n"
     ]
    },
    {
     "data": {
      "application/vnd.jupyter.widget-view+json": {
       "model_id": "efdb244f6386471791e6573fd6de0c01",
       "version_major": 2,
       "version_minor": 0
      },
      "text/plain": [
       "interactive(children=(Dropdown(description='x', options=('P0125OP0000.h5', 'P0125OP0001.h5', 'P0125OP0002.h5',…"
      ]
     },
     "metadata": {},
     "output_type": "display_data"
    }
   ],
   "source": [
    "%matplotlib widget\n",
    "data_dir = r\"data/\"\n",
    "\n",
    "files = file_preview(data_dir, cmap=\"afmhot\")"
   ]
  },
  {
   "cell_type": "markdown",
   "metadata": {},
   "source": [
    "### Then we can pick a specific file to open and look at more closely"
   ]
  },
  {
   "cell_type": "code",
   "execution_count": 6,
   "metadata": {},
   "outputs": [],
   "source": [
    "scan = AsylumDART(\"Image0010.h5\", data_dir = data_dir)"
   ]
  },
  {
   "cell_type": "code",
   "execution_count": 7,
   "metadata": {},
   "outputs": [
    {
     "data": {
      "application/vnd.jupyter.widget-view+json": {
       "model_id": "e1a02f1cd9c943fbab9cd0e3f79a261b",
       "version_major": 2,
       "version_minor": 0
      },
      "text/plain": [
       "Canvas(toolbar=Toolbar(toolitems=[('Home', 'Reset original view', 'home', 'home'), ('Back', 'Back to previous …"
      ]
     },
     "metadata": {},
     "output_type": "display_data"
    },
    {
     "name": "stdout",
     "output_type": "stream",
     "text": [
      "<class 'numpy.float64'>\n",
      "<class 'int'>\n",
      "<class 'int'>\n"
     ]
    },
    {
     "data": {
      "text/plain": [
       "(<Figure size 1200x400 with 6 Axes>,\n",
       " [<AxesSubplot:xlabel='X ($\\\\mathrm{\\\\mu}$m)', ylabel='Y ($\\\\mathrm{\\\\mu}$m)'>,\n",
       "  <AxesSubplot:xlabel='X ($\\\\mathrm{\\\\mu}$m)', ylabel='Y ($\\\\mathrm{\\\\mu}$m)'>,\n",
       "  <AxesSubplot:xlabel='X ($\\\\mathrm{\\\\mu}$m)', ylabel='Y ($\\\\mathrm{\\\\mu}$m)'>])"
      ]
     },
     "execution_count": 7,
     "metadata": {},
     "output_type": "execute_result"
    }
   ],
   "source": [
    "scan.multi_image_plot([\"Topography\", \"Amplitude_1\", \"Phase_1\"])"
   ]
  }
 ],
 "metadata": {
  "kernelspec": {
   "display_name": "Python 3",
   "language": "python",
   "name": "python3"
  },
  "language_info": {
   "codemirror_mode": {
    "name": "ipython",
    "version": 3
   },
   "file_extension": ".py",
   "mimetype": "text/x-python",
   "name": "python",
   "nbconvert_exporter": "python",
   "pygments_lexer": "ipython3",
   "version": "3.8.8"
  }
 },
 "nbformat": 4,
 "nbformat_minor": 4
}
